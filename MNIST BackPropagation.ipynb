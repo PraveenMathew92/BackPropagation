{
 "cells": [
  {
   "cell_type": "code",
   "execution_count": 2,
   "metadata": {},
   "outputs": [
    {
     "data": {
      "text/plain": [
       "dict_keys(['data', 'target', 'frame', 'feature_names', 'target_names', 'images', 'DESCR'])"
      ]
     },
     "execution_count": 2,
     "metadata": {},
     "output_type": "execute_result"
    }
   ],
   "source": [
    "from sklearn.datasets import load_digits\n",
    "import matplotlib.pyplot as plt\n",
    "import numpy as np\n",
    "import math\n",
    "digits = load_digits()\n",
    "\n",
    "digits.keys()"
   ]
  },
  {
   "cell_type": "code",
   "execution_count": 3,
   "metadata": {},
   "outputs": [
    {
     "data": {
      "image/png": "[encoded data removed]",
      "text/plain": [
       "<Figure size 432x288 with 1 Axes>"
      ]
     },
     "metadata": {
      "needs_background": "light"
     },
     "output_type": "display_data"
    }
   ],
   "source": [
    "from collections import Counter\n",
    "\n",
    "digit_count = dict(Counter(digits.target))\n",
    "plt.bar(list(digit_count.keys()), list(digit_count.values()))\n",
    "plt.show()"
   ]
  },
  {
   "cell_type": "code",
   "execution_count": 4,
   "metadata": {},
   "outputs": [
    {
     "data": {
      "text/plain": [
       "<Figure size 432x288 with 0 Axes>"
      ]
     },
     "metadata": {},
     "output_type": "display_data"
    },
    {
     "data": {
      "image/png": "[encoded data removed]",
      "text/plain": [
       "<Figure size 288x288 with 1 Axes>"
      ]
     },
     "metadata": {
      "needs_background": "light"
     },
     "output_type": "display_data"
    }
   ],
   "source": [
    "import matplotlib.pyplot as plt\n",
    "plt.gray() \n",
    "plt.matshow(digits.images[27]) \n",
    "plt.show()"
   ]
  },
  {
   "cell_type": "code",
   "execution_count": 5,
   "metadata": {},
   "outputs": [
    {
     "name": "stdout",
     "output_type": "stream",
     "text": [
      "(1797, 8, 8)\n"
     ]
    }
   ],
   "source": [
    "print(digits.images.shape)"
   ]
  },
  {
   "cell_type": "code",
   "execution_count": 6,
   "metadata": {},
   "outputs": [],
   "source": [
    "def activate(x):\n",
    "    return 1/(1 + math.exp(-x))\n",
    "\n",
    "def cost(y, x):\n",
    "    size = np.ma.size(y, axis=0)\n",
    "    diff = np.subtract(y, x)\n",
    "    square_of_diff = np.square(diff)\n",
    "    cost = np.sum(square_of_diff)/(2*size)\n",
    "    return cost"
   ]
  },
  {
   "cell_type": "code",
   "execution_count": 7,
   "metadata": {},
   "outputs": [
    {
     "data": {
      "text/plain": [
       "array([ 0.,  0.,  5., 13.,  9.,  1.,  0.,  0.,  0.,  0., 13., 15., 10.,\n",
       "       15.,  5.,  0.,  0.,  3., 15.,  2.,  0., 11.,  8.,  0.,  0.,  4.,\n",
       "       12.,  0.,  0.,  8.,  8.,  0.,  0.,  5.,  8.,  0.,  0.,  9.,  8.,\n",
       "        0.,  0.,  4., 11.,  0.,  1., 12.,  7.,  0.,  0.,  2., 14.,  5.,\n",
       "       10., 12.,  0.,  0.,  0.,  0.,  6., 13., 10.,  0.,  0.,  0.,  1.])"
      ]
     },
     "execution_count": 7,
     "metadata": {},
     "output_type": "execute_result"
    }
   ],
   "source": [
    "image = digits.images[0].flatten()\n",
    "image = np.append(image, [1])\n",
    "image"
   ]
  },
  {
   "cell_type": "code",
   "execution_count": 9,
   "metadata": {},
   "outputs": [],
   "source": [
    "images = digits.images.reshape(1797, 64)"
   ]
  },
  {
   "cell_type": "code",
   "execution_count": 51,
   "metadata": {},
   "outputs": [],
   "source": [
    "weights = np.zeros((65, 10))\n",
    "costs_array = []"
   ]
  },
  {
   "cell_type": "code",
   "execution_count": 70,
   "metadata": {},
   "outputs": [],
   "source": [
    "learning_rate = 0.1\n",
    "dataset_size = np.ma.size(images, axis=0)\n",
    "# weights = np.random.rand(65, 10)\n",
    "\n",
    "for image, target in zip(images[:1000], digits.target[:1000]):\n",
    "    image = np.append(image, [1])\n",
    "    Z = np.dot(image, weights)\n",
    "    A = np.vectorize(activate)(Z)\n",
    "    \n",
    "    output = np.zeros(10)\n",
    "    output[target] = 1\n",
    "    \n",
    "    \n",
    "    const = learning_rate*(1/dataset_size)*(1 - A[target])*(A[target]*(1-A[target]))\n",
    "    partial_function = const*image\n",
    "    modified_weights = np.take(weights, target, axis=1) - partial_function\n",
    "    weights.T[target] = modified_weights\n",
    "    costs_array.append(cost(output, A))"
   ]
  },
  {
   "cell_type": "code",
   "execution_count": 71,
   "metadata": {},
   "outputs": [
    {
     "data": {
      "text/plain": [
       "[<matplotlib.lines.Line2D at 0x7fcf21a2a1c0>]"
      ]
     },
     "execution_count": 71,
     "metadata": {},
     "output_type": "execute_result"
    },
    {
     "data": {
      "image/png": "[encoded data removed]",
      "text/plain": [
       "<Figure size 432x288 with 1 Axes>"
      ]
     },
     "metadata": {
      "needs_background": "light"
     },
     "output_type": "display_data"
    }
   ],
   "source": [
    "plt.plot(costs_array)"
   ]
  },
  {
   "cell_type": "code",
   "execution_count": 95,
   "metadata": {},
   "outputs": [
    {
     "name": "stdout",
     "output_type": "stream",
     "text": [
      "actual value =  2\n",
      "predicted value =  4\n",
      "[0. 0. 1. 0. 0. 0. 0. 0. 0. 0.]\n",
      "[-3.63683493 -3.73433811 -4.77451939 -4.55978353 -3.08864702 -4.01576295\n",
      " -3.66335655 -3.74454802 -4.13985381 -3.90455487]\n",
      "[0.0256598  0.02333161 0.00837147 0.01035596 0.04357799 0.0177099\n",
      " 0.025005   0.02310008 0.01567554 0.01975192]\n"
     ]
    }
   ],
   "source": [
    "import random\n",
    "\n",
    "chosen_index = random.randint(0, 1797)\n",
    "print(\"actual value = \", digits.target[chosen_index])\n",
    "\n",
    "output = np.zeros(10)\n",
    "output[digits.target[chosen_index]] = 1\n",
    "\n",
    "image = digits.images[chosen_index].reshape(64)\n",
    "image = np.append(image, [1])\n",
    "Z = np.dot(image, weights)\n",
    "A = np.vectorize(activate)(Z)\n",
    "print(\"predicted value = \", np.argmax(A))\n",
    "print(output)\n",
    "print(Z)\n",
    "print(A)"
   ]
  },
  {
   "cell_type": "code",
   "execution_count": 190,
   "metadata": {},
   "outputs": [
    {
     "data": {
      "text/plain": [
       "<AxesSubplot:>"
      ]
     },
     "execution_count": 190,
     "metadata": {},
     "output_type": "execute_result"
    },
    {
     "data": {
      "image/png": "[encoded data removed]",
      "text/plain": [
       "<Figure size 432x288 with 2 Axes>"
      ]
     },
     "metadata": {
      "needs_background": "light"
     },
     "output_type": "display_data"
    }
   ],
   "source": [
    "import seaborn as sns\n",
    "\n",
    "sns.heatmap(weights)"
   ]
  },
  {
   "cell_type": "code",
   "execution_count": 48,
   "metadata": {},
   "outputs": [
    {
     "ename": "NameError",
     "evalue": "name 'Z1' is not defined",
     "output_type": "error",
     "traceback": [
      "\u001b[0;31m---------------------------------------------------------------------------\u001b[0m",
      "\u001b[0;31mNameError\u001b[0m                                 Traceback (most recent call last)",
      "\u001b[0;32m<ipython-input-48-63484d50af3e>\u001b[0m in \u001b[0;36m<module>\u001b[0;34m\u001b[0m\n\u001b[1;32m      9\u001b[0m     \u001b[0mimage\u001b[0m \u001b[0;34m=\u001b[0m \u001b[0mnp\u001b[0m\u001b[0;34m.\u001b[0m\u001b[0mappend\u001b[0m\u001b[0;34m(\u001b[0m\u001b[0mimage\u001b[0m\u001b[0;34m,\u001b[0m \u001b[0;34m[\u001b[0m\u001b[0;36m1\u001b[0m\u001b[0;34m]\u001b[0m\u001b[0;34m)\u001b[0m\u001b[0;34m\u001b[0m\u001b[0;34m\u001b[0m\u001b[0m\n\u001b[1;32m     10\u001b[0m     \u001b[0mZ_1\u001b[0m \u001b[0;34m=\u001b[0m \u001b[0mnp\u001b[0m\u001b[0;34m.\u001b[0m\u001b[0mdot\u001b[0m\u001b[0;34m(\u001b[0m\u001b[0mimage\u001b[0m\u001b[0;34m,\u001b[0m \u001b[0mweights_layer_1\u001b[0m\u001b[0;34m)\u001b[0m\u001b[0;34m\u001b[0m\u001b[0;34m\u001b[0m\u001b[0m\n\u001b[0;32m---> 11\u001b[0;31m     \u001b[0mA_1\u001b[0m \u001b[0;34m=\u001b[0m \u001b[0mnp\u001b[0m\u001b[0;34m.\u001b[0m\u001b[0mvectorize\u001b[0m\u001b[0;34m(\u001b[0m\u001b[0mactivate\u001b[0m\u001b[0;34m)\u001b[0m\u001b[0;34m(\u001b[0m\u001b[0mZ1\u001b[0m\u001b[0;34m)\u001b[0m\u001b[0;34m\u001b[0m\u001b[0;34m\u001b[0m\u001b[0m\n\u001b[0m\u001b[1;32m     12\u001b[0m \u001b[0;34m\u001b[0m\u001b[0m\n\u001b[1;32m     13\u001b[0m     \u001b[0mZ_2\u001b[0m \u001b[0;34m=\u001b[0m \u001b[0mnp\u001b[0m\u001b[0;34m.\u001b[0m\u001b[0mdot\u001b[0m\u001b[0;34m(\u001b[0m\u001b[0mA_1\u001b[0m\u001b[0;34m,\u001b[0m \u001b[0mweights_layer_2\u001b[0m\u001b[0;34m)\u001b[0m\u001b[0;34m\u001b[0m\u001b[0;34m\u001b[0m\u001b[0m\n",
      "\u001b[0;31mNameError\u001b[0m: name 'Z1' is not defined"
     ]
    }
   ],
   "source": [
    "learning_rate = 0.1\n",
    "dataset_size = np.ma.size(images, axis=0)\n",
    "costs_array = []\n",
    "hidden_layer_size = 6400\n",
    "weights_layer_1 = np.zeros((65, hidden_layer_size))\n",
    "weights_layer_2 = np.zeros((hidden_layer_size, 10))\n",
    "\n",
    "for image, target in zip(images, digits.target):\n",
    "    image = np.append(image, [1])\n",
    "    Z_1 = np.dot(image, weights_layer_1)\n",
    "    A_1 = np.vectorize(activate)(Z_1)\n",
    "    \n",
    "    Z_2 = np.dot(A_1, weights_layer_2)\n",
    "    A_2 = np.vectorize(activate)(Z_2)\n",
    "    \n",
    "    output = np.zeros(10)\n",
    "    output[target] = 1\n",
    "    \n",
    "    \n",
    "    const = learning_rate*(1/dataset_size)*(1 - A[target])*(A[target]*(1-A[target]))\n",
    "    partial_function = const*image\n",
    "    modified_weights_layer_1 = np.take(weights_layer_1, target, axis=1) - partial_function\n",
    "    weights_layer_1.T[target] = modified_weights\n",
    "    costs_array.append(cost(output, A))"
   ]
  },
  {
   "cell_type": "code",
   "execution_count": null,
   "metadata": {},
   "outputs": [],
   "source": [
    "import random\n",
    "\n",
    "chosen_index = random.randint(0, 1797)\n",
    "print(\"actual value = \", digits.target[chosen_index])\n",
    "\n",
    "output = np.zeros(10)\n",
    "output[digits.target[chosen_index]] = 1\n",
    "\n",
    "image = digits.images[chosen_index].reshape(64)\n",
    "image = np.append(image, [1])\n",
    "Z = np.dot(image, weights)\n",
    "A = np.vectorize(activate)(Z)\n",
    "print(output)\n",
    "Z_1 = np.dot(image, weights_layer_1)\n",
    "A_1 = np.vectorize(activate)(Z1)\n",
    "\n",
    "Z_2 = np.dot(A_1, weights_layer_2)\n",
    "A_2 = np.vectorize(activate)(Z2)\n",
    "print(A_2)"
   ]
  }
 ],
 "metadata": {
  "kernelspec": {
   "display_name": "Python 3",
   "language": "python",
   "name": "python3"
  },
  "language_info": {
   "codemirror_mode": {
    "name": "ipython",
    "version": 3
   },
   "file_extension": ".py",
   "mimetype": "text/x-python",
   "name": "python",
   "nbconvert_exporter": "python",
   "pygments_lexer": "ipython3",
   "version": "3.8.5"
  }
 },
 "nbformat": 4,
 "nbformat_minor": 4
}
